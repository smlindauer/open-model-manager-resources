{
 "cells": [
  {
   "cell_type": "markdown",
   "metadata": {},
   "source": [
    "Copyright © 2020, SAS Institute Inc., Cary, NC, USA.  All Rights Reserved. \n",
    "SPDX-License-Identifier: Apache-2.0"
   ]
  },
  {
   "cell_type": "markdown",
   "metadata": {},
   "source": [
    "# Configure a Private Docker Publishing Destination"
   ]
  },
  {
   "cell_type": "markdown",
   "metadata": {},
   "source": [
    "## Establish a Connection and Define URLs"
   ]
  },
  {
   "cell_type": "code",
   "execution_count": null,
   "metadata": {},
   "outputs": [],
   "source": [
    "import sys\n",
    "sys.path.append('..')\n",
    "import mmAuthorization\n",
    "\n",
    "import requests\n",
    "import json, os, pprint\n",
    "import base64"
   ]
  },
  {
   "cell_type": "code",
   "execution_count": null,
   "metadata": {},
   "outputs": [],
   "source": [
    "def list_destinations(destination_url, auth_token): \n",
    "    headers = {\n",
    "        mmAuthorization.AUTHORIZATION_HEADER: mmAuthorization.AUTHORIZATION_TOKEN + auth_token\n",
    "    }\n",
    "\n",
    "    print(\"List the destinations...\")\n",
    "    try:\n",
    "        response = requests.get(destination_url, headers=headers)\n",
    "        jsondata = response.json()\n",
    "        destinations = jsondata['items']\n",
    "        if len(destinations) > 0:\n",
    "            for destination in destinations:            \n",
    "                print(destination[\"id\"])\n",
    "                print(destination[\"name\"])\n",
    "                print(\"===========\")\n",
    "\n",
    "    except:\n",
    "        raise RuntimeError(\"ERROR! Failed to get destination list\")\n",
    "\n",
    "# public_ip = \"10.122.33.153\"\n",
    "host_name = \"HOST\"\n",
    "port = \"PORT\"\n",
    "\n",
    "host_url=\"http://\" + host_name + port\n",
    "destination_url = host_url + \"/modelPublish/destinations/\"\n",
    "modelrepo_url = host_url + \"/modelRepository/models/\"\n",
    "publishmodel_url = host_url + \"/modelPublish/models\"\n",
    "domains_url = host_url + \"/credentials/domains\"\n",
    "print(host_url)"
   ]
  },
  {
   "cell_type": "markdown",
   "metadata": {},
   "source": [
    "## Get an Authorization Token and Define Headers"
   ]
  },
  {
   "cell_type": "code",
   "execution_count": null,
   "metadata": {},
   "outputs": [],
   "source": [
    "mm_auth = mmAuthorization.mmAuthorization(\"myAuth\")\n",
    "\n",
    "admin_userId = '<SAS_user_admin_ID>'\n",
    "user_passwd = '<SAS_user_password>'\n",
    "\n",
    "admin_auth_token = mm_auth.get_auth_token(host_url, admin_userId, user_passwd)\n",
    "\n",
    "credential_admin_headers = {\n",
    "    mmAuthorization.AUTHORIZATION_HEADER: mmAuthorization.AUTHORIZATION_TOKEN + admin_auth_token\n",
    "}\n",
    "\n",
    "credential_domain_headers = {\n",
    "    \"If-Match\":\"false\",\n",
    "    \"Content-Type\":\"application/json\",\n",
    "    mmAuthorization.AUTHORIZATION_HEADER: mmAuthorization.AUTHORIZATION_TOKEN + admin_auth_token\n",
    "}\n",
    "\n",
    "credential_user_headers = {\n",
    "    \"If-Match\":\"false\",\n",
    "    \"Content-Type\":\"application/json\",\n",
    "    mmAuthorization.AUTHORIZATION_HEADER: mmAuthorization.AUTHORIZATION_TOKEN + admin_auth_token\n",
    "}\n",
    "\n",
    "destination_harbor_headers = {\n",
    "    \"If-Match\":\"false\",\n",
    "    \"Content-Type\":\"application/vnd.sas.models.publishing.destination.privatedocker+json\",\n",
    "    mmAuthorization.AUTHORIZATION_HEADER: mmAuthorization.AUTHORIZATION_TOKEN + admin_auth_token\n",
    "}\n",
    "\n",
    "print(admin_auth_token)"
   ]
  },
  {
   "cell_type": "markdown",
   "metadata": {},
   "source": [
    "## Create a Domain Credential"
   ]
  },
  {
   "cell_type": "code",
   "execution_count": null,
   "metadata": {},
   "outputs": [],
   "source": [
    "domain_name = \"<Domain_Name>\"\n",
    "description = '<Domain_Description>'\n",
    "\n",
    "my_domain_url = domains_url + \"/\" + domain_name\n",
    "domain_attrs = {\n",
    "    \"id\":domain_name,\n",
    "    \"type\":\"base64\",\n",
    "    \"description\": description\n",
    "}\n",
    "\n",
    "domain = requests.put(my_domain_url, \n",
    "                       data=json.dumps(domain_attrs), headers=credential_domain_headers)\n",
    "\n",
    "print(domain)\n",
    "pprint.pprint(domain.json())"
   ]
  },
  {
   "cell_type": "markdown",
   "metadata": {},
   "source": [
    "## Create User Credentials"
   ]
  },
  {
   "cell_type": "code",
   "execution_count": null,
   "metadata": {},
   "outputs": [],
   "source": [
    "#domain_name = \"<Domain_Name>\"\n",
    "#my_domain_url = domains_url + \"/\" + domain_name\n",
    "\n",
    "\n",
    "user_credential_name = admin_userId\n",
    "my_credential_url = my_domain_url + \"/users/\" + user_credential_name\n",
    "\n",
    "userId = \"REGISTRYID\"\n",
    "\n",
    "password = \"REGISTRYPASS\"\n",
    "encoded_userId = str(base64.b64encode(userId.encode(\"utf-8\")), \"utf-8\")\n",
    "encoded_password = str(base64.b64encode(password.encode(\"utf-8\")), \"utf-8\")\n",
    "\n",
    "credential_attrs = {\n",
    "    \"domainId\":domain_name,\n",
    "    \"identityType\":\"user\",\n",
    "    \"identityId\":user_credential_name,\n",
    "    \"domainType\":\"base64\",\n",
    "    \"properties\":{\"dockerRegistryUserId\":encoded_userId},\n",
    "    \"secrets\":{\"dockerRegistryPasswd\":encoded_password}\n",
    "}\n",
    "\n",
    "credential = requests.put(my_credential_url, \n",
    "                       data=json.dumps(credential_attrs), headers=credential_user_headers)\n",
    "\n",
    "print(credential)\n",
    "pprint.pprint(credential.json())"
   ]
  },
  {
   "cell_type": "markdown",
   "metadata": {},
   "source": [
    "## Create a Private Docker Destination"
   ]
  },
  {
   "cell_type": "code",
   "execution_count": null,
   "metadata": {},
   "outputs": [],
   "source": [
    "# Creates a new Harbor destination, expecting a response code of 201.\n",
    "\n",
    "dest_name = \"DESTINATION\"\n",
    "domainName = \"DOMAIN\"\n",
    "baseRepoUrl = \"URL\"\n",
    "\n",
    "destination_attrs = {\n",
    "    \"name\":dest_name,\n",
    "    \"destinationType\":\"privateDocker\",\n",
    "     \"properties\": [{\"name\": \"kwsImageUrl\",                \n",
    "                     \"value\": \"registry.unx.sas.com/mm/kws:latest\"},\n",
    "                    {\"name\": \"credDomainId\",\n",
    "                    \"value\": domainName},\n",
    "                    {\"name\": \"baseRepoUrl\",\n",
    "                    \"value\": baseRepoUrl}\n",
    "                   ]\n",
    "}\n",
    "\n",
    "destination = requests.post(destination_url, data=json.dumps(destination_attrs), headers=destination_harbor_headers)\n",
    "\n",
    "print(destination)\n",
    "pprint.pprint(destination.json())"
   ]
  },
  {
   "cell_type": "markdown",
   "metadata": {},
   "source": [
    "## Delete a Destination"
   ]
  },
  {
   "cell_type": "code",
   "execution_count": null,
   "metadata": {},
   "outputs": [],
   "source": [
    "deletedURL = destination_url + dest_name\n",
    "\n",
    "destination = requests.delete(deletedURL, headers=credential_admin_headers)\n",
    "\n",
    "print(deletedURL)\n",
    "print(destination)\n",
    "pprint.pprint(destination.json())"
   ]
  }
 ],
 "metadata": {
  "kernelspec": {
   "display_name": "Python 3",
   "language": "python",
   "name": "python3"
  },
  "language_info": {
   "codemirror_mode": {
    "name": "ipython",
    "version": 3
   },
   "file_extension": ".py",
   "mimetype": "text/x-python",
   "name": "python",
   "nbconvert_exporter": "python",
   "pygments_lexer": "ipython3",
   "version": "3.8.3"
  }
 },
 "nbformat": 4,
 "nbformat_minor": 4
}
