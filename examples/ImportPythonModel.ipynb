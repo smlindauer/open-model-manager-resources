{
 "cells": [
  {
   "cell_type": "markdown",
   "metadata": {
    "Collapsed": "false"
   },
   "source": [
    "Copyright © 2020, SAS Institute Inc., Cary, NC, USA.  All Rights Reserved.\n",
    "SPDX-License-Identifier: Apache-2.0"
   ]
  },
  {
   "cell_type": "markdown",
   "metadata": {
    "Collapsed": "false"
   },
   "source": [
    "# Build and Import a Trained Model into SAS Open Model Manager\n",
    "\n",
    "This notebook provides an example of how to build and train a Python model and then import the model into SAS Open Model Manager.\n",
    "\n",
    "Here are the steps:\n",
    "\n",
    "1. Build and train a model.\n",
    "2. Serialize the model into a pickle file and deploy the pickle file into SAS Open Model Manager.\n",
    "3. Write JSON files associated with the trained model and write the score code .py file.\n",
    "4. Zip the pickle, JSON, and score code files into an archive.\n",
    "5. Import the ZIP archive file to Open Model Manager via an API call."
   ]
  },
  {
   "cell_type": "markdown",
   "metadata": {
    "Collapsed": "false"
   },
   "source": [
    "### Step 1: Build and Train a Model"
   ]
  },
  {
   "cell_type": "code",
   "execution_count": null,
   "metadata": {
    "Collapsed": "false"
   },
   "outputs": [],
   "source": [
    "from pathlib import Path\n",
    "import pandas as pd\n",
    "\n",
    "import sklearn.tree as tree\n",
    "from sklearn.model_selection import train_test_split"
   ]
  },
  {
   "cell_type": "code",
   "execution_count": null,
   "metadata": {
    "Collapsed": "false"
   },
   "outputs": [],
   "source": [
    "dataFolder = Path.cwd() / 'Data'\n",
    "zipFolder = Path.cwd() / 'Model'\n",
    "modelPrefix  = 'hmeqClassTree'"
   ]
  },
  {
   "cell_type": "code",
   "execution_count": null,
   "metadata": {
    "Collapsed": "false"
   },
   "outputs": [],
   "source": [
    "yName = 'BAD'\n",
    "catName = ['JOB', 'REASON']\n",
    "intName = ['CLAGE', 'CLNO', 'DEBTINC', 'DELINQ', 'DEROG', 'NINQ', 'YOJ']\n",
    "\n",
    "inputData = pd.read_csv((Path(dataFolder) / 'hmeq.csv'), sep=',',\n",
    "                        usecols=[yName]+catName+intName)"
   ]
  },
  {
   "cell_type": "code",
   "execution_count": null,
   "metadata": {
    "Collapsed": "false"
   },
   "outputs": [],
   "source": [
    "useColumn = [yName]\n",
    "useColumn.extend(catName + intName)\n",
    "inputData = inputData[useColumn].dropna()\n",
    "\n",
    "xTrain, xTest, yTrain, yTest = train_test_split(inputData, inputData[yName],\n",
    "                                                test_size=0.2, random_state=42)"
   ]
  },
  {
   "cell_type": "code",
   "execution_count": null,
   "metadata": {
    "Collapsed": "false"
   },
   "outputs": [],
   "source": [
    "model = tree.DecisionTreeClassifier(criterion='entropy', max_depth=5,\n",
    "                                    min_samples_split=20,\n",
    "                                    min_samples_leaf=10,\n",
    "                                    random_state=42)\n",
    "print(model)"
   ]
  },
  {
   "cell_type": "code",
   "execution_count": null,
   "metadata": {
    "Collapsed": "false"
   },
   "outputs": [],
   "source": [
    "x = pd.get_dummies(xTrain[catName].astype('category'))\n",
    "x = x.join(xTrain[intName])\n",
    "y = yTrain.astype('category')\n",
    "trainedModel = model.fit(x, y)"
   ]
  },
  {
   "cell_type": "code",
   "execution_count": null,
   "metadata": {
    "Collapsed": "false"
   },
   "outputs": [],
   "source": [
    "yCategory = y.cat.categories\n",
    "outputVar = pd.DataFrame(columns=['EM_EVENTPROBABILITY', 'EM_CLASSIFICATION'])\n",
    "outputVar['EM_CLASSIFICATION'] = yCategory.astype('str')\n",
    "outputVar['EM_EVENTPROBABILITY'] = 0.5"
   ]
  },
  {
   "cell_type": "markdown",
   "metadata": {
    "Collapsed": "false"
   },
   "source": [
    "### Step 2: Serialize a Model Into a Pickle File"
   ]
  },
  {
   "cell_type": "code",
   "execution_count": null,
   "metadata": {
    "Collapsed": "false"
   },
   "outputs": [],
   "source": [
    "import pzmm"
   ]
  },
  {
   "cell_type": "code",
   "execution_count": null,
   "metadata": {
    "Collapsed": "false"
   },
   "outputs": [],
   "source": [
    "pzmm.PickleModel.pickleTrainedModel(trainedModel, modelPrefix, zipFolder)"
   ]
  },
  {
   "cell_type": "markdown",
   "metadata": {
    "Collapsed": "false"
   },
   "source": [
    "### Step 3: Write JSON Model Files"
   ]
  },
  {
   "cell_type": "code",
   "execution_count": null,
   "metadata": {
    "Collapsed": "false"
   },
   "outputs": [],
   "source": [
    "JSONFiles = pzmm.JSONFiles()\n",
    "JSONFiles.writeVarJSON(inputData[catName+intName], isInput=True, jPath=zipFolder)\n",
    "\n",
    "JSONFiles.writeVarJSON(outputVar, isInput=False, jPath=zipFolder)\n",
    "\n",
    "modelName = 'Home Equity Loan Classification Tree'\n",
    "JSONFiles.writeModelPropertiesJSON(modelName=modelName,\n",
    "                                        modelDesc='',\n",
    "                                        targetVariable=yName,\n",
    "                                        modelType='tree',\n",
    "                                        modelPredictors=(catName + intName),\n",
    "                                        targetEvent=yCategory[1].astype('str'),\n",
    "                                        numTargetCategories=len(yCategory),\n",
    "                                        eventProbVar='EM_EVENTPROBABILITY',\n",
    "                                        jPath=zipFolder)\n",
    "\n",
    "JSONFiles.writeFileMetadataJSON(modelPrefix, jPath=zipFolder)"
   ]
  },
  {
   "cell_type": "code",
   "execution_count": null,
   "metadata": {
    "Collapsed": "false"
   },
   "outputs": [],
   "source": [
    "fitStatTuples = [('GAMMA', 1.65412, 'TRAIN'),('NObs', 176, 'TEST'),('MCLL', .196882, 'VALIDATE')]\n",
    "csvPath = Path.cwd() / 'Data/dmcas_fitstat.csv'\n",
    "JSONFiles = pzmm.JSONFiles()\n",
    "JSONFiles.writeBaseFitStat(csvPath=csvPath, jPath=zipFolder, userInput=True, tupleList=fitStatTuples)"
   ]
  },
  {
   "cell_type": "markdown",
   "metadata": {
    "Collapsed": "false"
   },
   "source": [
    "### Step 4: Zip Model and Relevant Files"
   ]
  },
  {
   "cell_type": "code",
   "execution_count": null,
   "metadata": {
    "Collapsed": "false"
   },
   "outputs": [],
   "source": [
    "pzmm.ZipModel.zipFiles(fileDir=zipFolder, modelPrefix=modelPrefix)"
   ]
  },
  {
   "cell_type": "markdown",
   "metadata": {
    "Collapsed": "false"
   },
   "source": [
    "### Step 5: Import Model into SAS Open Model Manager"
   ]
  },
  {
   "cell_type": "code",
   "execution_count": null,
   "metadata": {
    "Collapsed": "false"
   },
   "outputs": [],
   "source": [
    "host = 'myserver.com'\n",
    "ModelImport = pzmm.ModelImport(host)"
   ]
  },
  {
   "cell_type": "code",
   "execution_count": null,
   "metadata": {
    "Collapsed": "false"
   },
   "outputs": [],
   "source": [
    "zPath = Path(zipFolder) / (modelPrefix + '.zip')\n",
    "ModelImport.importModel(modelPrefix, projectName='HMEQ', zPath=zPath)"
   ]
  },
  {
   "cell_type": "code",
   "execution_count": null,
   "metadata": {
    "Collapsed": "false"
   },
   "outputs": [],
   "source": []
  }
 ],
 "metadata": {
  "kernelspec": {
   "display_name": "Python 3",
   "language": "python",
   "name": "python3"
  },
  "language_info": {
   "codemirror_mode": {
    "name": "ipython",
    "version": 3
   },
   "file_extension": ".py",
   "mimetype": "text/x-python",
   "name": "python",
   "nbconvert_exporter": "python",
   "pygments_lexer": "ipython3",
   "version": "3.7.3"
  }
 },
 "nbformat": 4,
 "nbformat_minor": 4
}
